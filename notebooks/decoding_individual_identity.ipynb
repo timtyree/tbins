{
 "cells": [
  {
   "cell_type": "markdown",
   "id": "36ef6912",
   "metadata": {},
   "source": [
    "# Decoding Individual Identity\n",
    "Tim Tyree<br>\n",
    "9.9.2022"
   ]
  },
  {
   "cell_type": "code",
   "execution_count": 1,
   "id": "ec66ae20",
   "metadata": {
    "ExecuteTime": {
     "end_time": "2022-09-10T03:28:36.162021Z",
     "start_time": "2022-09-10T03:28:32.859870Z"
    }
   },
   "outputs": [],
   "source": [
    "from lib.get_init import *\n",
    "%load_ext autoreload\n",
    "%autoreload 2\n",
    "np.random.seed(42)"
   ]
  },
  {
   "cell_type": "code",
   "execution_count": 2,
   "id": "4bb0d3cd",
   "metadata": {
    "ExecuteTime": {
     "end_time": "2022-09-10T03:28:36.226719Z",
     "start_time": "2022-09-10T03:28:36.164638Z"
    }
   },
   "outputs": [],
   "source": [
    "#reset matplotlib settings\n",
    "sns.reset_orig()\n",
    "mpl.rc_file_defaults()"
   ]
  },
  {
   "cell_type": "markdown",
   "id": "3bcc3d2b",
   "metadata": {},
   "source": [
    "# select the data"
   ]
  },
  {
   "cell_type": "code",
   "execution_count": 3,
   "id": "245572f3",
   "metadata": {
    "ExecuteTime": {
     "end_time": "2022-09-10T03:28:36.264024Z",
     "start_time": "2022-09-10T03:28:36.229429Z"
    }
   },
   "outputs": [],
   "source": [
    "use_search_dialog=False\n",
    "if use_search_dialog:\n",
    "    from lib.controller.filedialog import search_for_file\n",
    "    data_dir = search_for_file (currdir = os.getcwd())\n",
    "    print(f\"  nota bene: restarting the .ipynb should make the widget window go away.\")\n",
    "else:\n",
    "    data_dir='/Users/timothytyree/Documents/TyreeEtAl_data/data.json'"
   ]
  },
  {
   "cell_type": "code",
   "execution_count": 4,
   "id": "6e78246d",
   "metadata": {
    "ExecuteTime": {
     "end_time": "2022-09-10T03:28:36.298784Z",
     "start_time": "2022-09-10T03:28:36.266574Z"
    }
   },
   "outputs": [
    {
     "name": "stdout",
     "output_type": "stream",
     "text": [
      "data_dir='/Users/timothytyree/Documents/TyreeEtAl_data/data.json'\n"
     ]
    }
   ],
   "source": [
    "print(f\"{data_dir=}\")\n",
    "assert os.path.exists(data_dir)"
   ]
  },
  {
   "cell_type": "markdown",
   "id": "1ef34901",
   "metadata": {},
   "source": [
    "# load the data"
   ]
  },
  {
   "cell_type": "markdown",
   "id": "c0a57d6d",
   "metadata": {},
   "source": [
    "schema of data.json:\n",
    "- observer_name: name of the observer\n",
    "- session_num: integer index of recording session\n",
    "- dict_anatomical: anatomical information for recording session\n",
    "- dict_relationships: relationship information confirmed between observers and conspecifics\n",
    "- dict_transcript: spike times for all neurons labeled by trial, trial information\n",
    "    - spike_time_array: table containing neuron spike times centered at stimulus onset t=0. rows index trials. columns index neurons.\n",
    "    - df_trial_data: table of trial information. rows index trials.\n",
    "    - df_labels: table of trial labels computed from trial information. rows index trials.\n",
    "- dict_error_estimates: estimated spike sorting error rates (percent of oversplit or undersplit neurons)\n",
    "- dict_subpopulations: dictionary of neurons identified as concept cells or responsive to face or voice stimuli\n",
    "- dict_decoder_hyperparameters: dictionary of decoder hyperparameter settings\n",
    "- dict_etc:\n",
    "    - df_neurons: table of information describing all neurons.  rows index neurons.\n",
    "    - dict_spike_templates: dictionary of spike sorting templates for all neurons.\n",
    "        - t_values: time values centered at the waveform peak\n",
    "        - dict_spike_template_lst: list spike template dictionaries ordered by neuron\n",
    "        - xdim: units of t_values are in milliseconds.\n",
    "        - ydim: units of spike templates are in millivolts.\n",
    "        - flip_signs: true if original spike template was multiplied by -1, which typically lead to spikes appearing as a maximum instead of as a minimum value."
   ]
  },
  {
   "cell_type": "code",
   "execution_count": 5,
   "id": "905998ad",
   "metadata": {
    "ExecuteTime": {
     "end_time": "2022-09-10T03:28:36.616131Z",
     "start_time": "2022-09-10T03:28:36.300386Z"
    }
   },
   "outputs": [
    {
     "name": "stdout",
     "output_type": "stream",
     "text": [
      "This dataset was loaded from data_dir='/Users/timothytyree/Documents/TyreeEtAl_data/data.json'.\n",
      "\n",
      "Observer: Hades (Session #47):\n",
      "\n",
      "keys available for accessing data:\n",
      "session_num\n",
      "observer_name\n",
      "dict_anatomical\n",
      "dict_relationships\n",
      "dict_transcript\n",
      "dict_error_estimates\n",
      "dict_subpopulations\n",
      "dict_decoder_hyperparameters\n",
      "dict_etc\n",
      "\n",
      "dict_anatomical holds anatomical data for recoring session:\n",
      "session_num=46\n",
      "anatomical_region=''\n",
      "AP_pos_set=-3.1\n"
     ]
    }
   ],
   "source": [
    "#load data from .json\n",
    "data=load_from_json(data_dir)\n",
    "observer_name = data['observer_name']\n",
    "session_num = data['session_num']\n",
    "print(f\"This dataset was loaded from {data_dir=}.\")\n",
    "print(f\"\\nObserver: {observer_name.capitalize()} (Session #{session_num+1}):\") #the first recording session had session_num=0.\n",
    "print(f\"\\nkeys available for accessing data:\")\n",
    "# print(*data)\n",
    "for key in data:\n",
    "    print(key)\n",
    "print(f\"\\ndict_anatomical holds anatomical data for recoring session:\")\n",
    "print_dict(data['dict_anatomical'])"
   ]
  },
  {
   "attachments": {},
   "cell_type": "markdown",
   "id": "74246ef1",
   "metadata": {},
   "source": [
    "__Anatomical location in Hippocampus:__\n",
    "\n",
    "The estimated centroid of the microwire brush array was used to determine anatomical location of a recording session.  The anterior-posterior (`AP_pos`) position was estimated (in millimeters), and if we had great confidence that the majority of the array was recording predominantly in one hippocampal subfield, then we labeled the recording session with the appropriate subfield (`anatomical_region`).  If anatomical_region='', then we did not have this great confidence for any subfield.\n",
    "\n",
    "__Nota bene__: <br>The recording session previous to Session #47 (Session #46) was prodominantly in CA1 (`anatomical_region='CA1`)).\n",
    "\n",
    "<!--  ![image.png](attachment:image.png). -->"
   ]
  },
  {
   "cell_type": "code",
   "execution_count": 6,
   "id": "4741e602",
   "metadata": {
    "ExecuteTime": {
     "end_time": "2022-09-10T03:28:36.688000Z",
     "start_time": "2022-09-10T03:28:36.617849Z"
    }
   },
   "outputs": [
    {
     "name": "stdout",
     "output_type": "stream",
     "text": [
      "spike_time_array df_trial_data df_labels\n"
     ]
    },
    {
     "data": {
      "text/html": [
       "<div>\n",
       "<style scoped>\n",
       "    .dataframe tbody tr th:only-of-type {\n",
       "        vertical-align: middle;\n",
       "    }\n",
       "\n",
       "    .dataframe tbody tr th {\n",
       "        vertical-align: top;\n",
       "    }\n",
       "\n",
       "    .dataframe thead th {\n",
       "        text-align: right;\n",
       "    }\n",
       "</style>\n",
       "<table border=\"1\" class=\"dataframe\">\n",
       "  <thead>\n",
       "    <tr style=\"text-align: right;\">\n",
       "      <th></th>\n",
       "      <th>index</th>\n",
       "      <th>Duration</th>\n",
       "      <th>PheeName</th>\n",
       "      <th>block</th>\n",
       "      <th>imDur</th>\n",
       "      <th>imMatchFlag</th>\n",
       "      <th>imName</th>\n",
       "      <th>imNum</th>\n",
       "      <th>novel</th>\n",
       "      <th>session_num</th>\n",
       "      <th>trial_num</th>\n",
       "      <th>monkName</th>\n",
       "      <th>faceName</th>\n",
       "      <th>pheeName</th>\n",
       "    </tr>\n",
       "  </thead>\n",
       "  <tbody>\n",
       "    <tr>\n",
       "      <th>17024</th>\n",
       "      <td>0</td>\n",
       "      <td>2.415744</td>\n",
       "      <td>hermes</td>\n",
       "      <td>1.0</td>\n",
       "      <td>2.415744</td>\n",
       "      <td>3.0</td>\n",
       "      <td>none</td>\n",
       "      <td>1.0</td>\n",
       "      <td>1</td>\n",
       "      <td>46</td>\n",
       "      <td>0</td>\n",
       "      <td>Hades</td>\n",
       "      <td>none</td>\n",
       "      <td>hermes</td>\n",
       "    </tr>\n",
       "    <tr>\n",
       "      <th>17025</th>\n",
       "      <td>1</td>\n",
       "      <td>3.502351</td>\n",
       "      <td>none</td>\n",
       "      <td>1.0</td>\n",
       "      <td>3.502351</td>\n",
       "      <td>0.0</td>\n",
       "      <td>Aladdin</td>\n",
       "      <td>2.0</td>\n",
       "      <td>1</td>\n",
       "      <td>46</td>\n",
       "      <td>1</td>\n",
       "      <td>Hades</td>\n",
       "      <td>aladdin</td>\n",
       "      <td>none</td>\n",
       "    </tr>\n",
       "    <tr>\n",
       "      <th>17026</th>\n",
       "      <td>2</td>\n",
       "      <td>2.060948</td>\n",
       "      <td>aladdin</td>\n",
       "      <td>1.0</td>\n",
       "      <td>2.060948</td>\n",
       "      <td>1.0</td>\n",
       "      <td>Aladdin</td>\n",
       "      <td>3.0</td>\n",
       "      <td>1</td>\n",
       "      <td>46</td>\n",
       "      <td>2</td>\n",
       "      <td>Hades</td>\n",
       "      <td>aladdin</td>\n",
       "      <td>aladdin</td>\n",
       "    </tr>\n",
       "    <tr>\n",
       "      <th>17027</th>\n",
       "      <td>3</td>\n",
       "      <td>3.501758</td>\n",
       "      <td>none</td>\n",
       "      <td>1.0</td>\n",
       "      <td>3.501758</td>\n",
       "      <td>0.0</td>\n",
       "      <td>Ares</td>\n",
       "      <td>4.0</td>\n",
       "      <td>1</td>\n",
       "      <td>46</td>\n",
       "      <td>3</td>\n",
       "      <td>Hades</td>\n",
       "      <td>ares</td>\n",
       "      <td>none</td>\n",
       "    </tr>\n",
       "    <tr>\n",
       "      <th>17028</th>\n",
       "      <td>4</td>\n",
       "      <td>2.341655</td>\n",
       "      <td>chewie</td>\n",
       "      <td>1.0</td>\n",
       "      <td>2.341655</td>\n",
       "      <td>3.0</td>\n",
       "      <td>none</td>\n",
       "      <td>5.0</td>\n",
       "      <td>1</td>\n",
       "      <td>46</td>\n",
       "      <td>4</td>\n",
       "      <td>Hades</td>\n",
       "      <td>none</td>\n",
       "      <td>chewie</td>\n",
       "    </tr>\n",
       "  </tbody>\n",
       "</table>\n",
       "</div>"
      ],
      "text/plain": [
       "       index  Duration PheeName  block     imDur  imMatchFlag   imName  imNum  \\\n",
       "17024      0  2.415744   hermes    1.0  2.415744          3.0     none    1.0   \n",
       "17025      1  3.502351     none    1.0  3.502351          0.0  Aladdin    2.0   \n",
       "17026      2  2.060948  aladdin    1.0  2.060948          1.0  Aladdin    3.0   \n",
       "17027      3  3.501758     none    1.0  3.501758          0.0     Ares    4.0   \n",
       "17028      4  2.341655   chewie    1.0  2.341655          3.0     none    5.0   \n",
       "\n",
       "       novel  session_num  trial_num monkName faceName pheeName  \n",
       "17024      1           46          0    Hades     none   hermes  \n",
       "17025      1           46          1    Hades  aladdin     none  \n",
       "17026      1           46          2    Hades  aladdin  aladdin  \n",
       "17027      1           46          3    Hades     ares     none  \n",
       "17028      1           46          4    Hades     none   chewie  "
      ]
     },
     "execution_count": 6,
     "metadata": {},
     "output_type": "execute_result"
    }
   ],
   "source": [
    "spike_time_array = np.array(data['dict_transcript']['spike_time_array'])\n",
    "print(*data['dict_transcript'])\n",
    "df_trial_data = pd.DataFrame(data['dict_transcript']['df_trial_data'])\n",
    "# df_labels = pd.DataFrame(data['dict_transcript']['df_labels'])\n",
    "df_trial_data.head()"
   ]
  },
  {
   "cell_type": "code",
   "execution_count": 7,
   "id": "982a09b3",
   "metadata": {
    "ExecuteTime": {
     "end_time": "2022-09-10T03:28:36.741040Z",
     "start_time": "2022-09-10T03:28:36.689472Z"
    }
   },
   "outputs": [
    {
     "name": "stdout",
     "output_type": "stream",
     "text": [
      "number of trials by mode:\n",
      "\t- 172 (face-only)\n",
      "\t- 57 (voice-only)\n",
      "\t- 88 (identity match)\n",
      "\t- 83 (identity mismatch)\n"
     ]
    }
   ],
   "source": [
    "#separate trials by modality\n",
    "trial_num_values_face_only = df_trial_data[df_trial_data['pheeName']=='none']['trial_num'].values\n",
    "trial_num_values_voice_only = df_trial_data[df_trial_data['faceName']=='none']['trial_num'].values\n",
    "boo_xmod = (df_trial_data['faceName']!='none') & (df_trial_data['pheeName']!='none')\n",
    "trial_num_values_match = df_trial_data[boo_xmod&(df_trial_data['faceName']!=df_trial_data['pheeName'])]['trial_num'].values\n",
    "trial_num_values_mismatch = df_trial_data[boo_xmod&(df_trial_data['faceName']==df_trial_data['pheeName'])]['trial_num'].values\n",
    "print(f\"number of trials by mode:\")\n",
    "print(f\"\\t- {trial_num_values_face_only.shape[0]} (face-only)\")\n",
    "print(f\"\\t- {trial_num_values_voice_only.shape[0]} (voice-only)\")\n",
    "print(f\"\\t- {trial_num_values_match.shape[0]} (identity match)\")\n",
    "print(f\"\\t- {trial_num_values_mismatch.shape[0]} (identity mismatch)\")"
   ]
  },
  {
   "cell_type": "markdown",
   "id": "3e281a6b",
   "metadata": {
    "ExecuteTime": {
     "end_time": "2022-09-10T00:32:32.847743Z",
     "start_time": "2022-09-10T00:32:32.802024Z"
    }
   },
   "source": [
    "We will use train_test_split_multimodal_crossval to perform the train-test split"
   ]
  },
  {
   "cell_type": "code",
   "execution_count": 8,
   "id": "4b183ab5",
   "metadata": {
    "ExecuteTime": {
     "end_time": "2022-09-10T03:28:36.781233Z",
     "start_time": "2022-09-10T03:28:36.744348Z"
    }
   },
   "outputs": [
    {
     "data": {
      "text/plain": [
       "<function lib.model.train_test_split_multimodal.train_test_split_multimodal_crossval(concept_name_values_selected, d_labels, trial_num_values_remove, n_splits=5, shuffle=True, random_state=42, **kwargs)>"
      ]
     },
     "execution_count": 8,
     "metadata": {},
     "output_type": "execute_result"
    }
   ],
   "source": [
    "train_test_split_multimodal_crossval"
   ]
  },
  {
   "cell_type": "code",
   "execution_count": null,
   "id": "eb080add",
   "metadata": {},
   "outputs": [],
   "source": []
  },
  {
   "cell_type": "markdown",
   "id": "8501283a",
   "metadata": {},
   "source": [
    "We will be using gener_tbins_fast to generate candidate time bins."
   ]
  },
  {
   "cell_type": "code",
   "execution_count": 9,
   "id": "28f982f9",
   "metadata": {
    "ExecuteTime": {
     "end_time": "2022-09-10T03:28:36.826006Z",
     "start_time": "2022-09-10T03:28:36.784170Z"
    }
   },
   "outputs": [
    {
     "name": "stdout",
     "output_type": "stream",
     "text": [
      "gener_tbins_fast returns a tuple of df_tbins and df_tbins_refined, respectively.\n",
      "    booT,booF are boolean index arrays indexing the true/false training trials, respectively.\n",
      "    spike_time_array is a 2D numpy array instance of list objects that contain spike times for a given trial-neuron pair.\n",
      "    decreasing max_dur_overlap may needlessly remove useful predictive time bins,\n",
      "    so its default value is set arbitrarily large while remaining small enough to be a float32 instance.\n",
      "    using refinement may add ~2minutes to the estimated run time (default: refinement=True).\n",
      "    otherwise, gener_tbins_fast can run in tpyically less than 2 minutes per call.\n",
      "\n",
      "    Parameters Settings\n",
      "    --------------------\n",
      "        nid_values: neuron index values to consider.  all neurons are considered if nid_values is None (default: nid_values=None)\n",
      "\n",
      "        taumin: earliest start time\n",
      "\n",
      "        taumax: latest end time\n",
      "\n",
      "        delta_tau_min: time between two start/end times\n",
      "\n",
      "        refinement: whetehr or not to use refinement\n",
      "\n",
      "        delta_tau_min: seconds between each division of time\n",
      "\n",
      "        num_perturbations: number of random perturbations\n",
      "\n",
      "        perturbation_scale_factor: factor by which we multiply duration to get the stddev of perturbations for this tbin\n",
      "\n",
      "        min_dur: seconds in the smallest candidate time bin before refinement\n",
      "\n",
      "        max_dur_overlap: seconds of the maximum allowed overlap between candidate time bin _after_ refinement.\n",
      "\n",
      "    Returns\n",
      "    -------\n",
      "    tuple\n",
      "        df_tbins,df_tbins_refined: table of candidate time bins without and with refinement, repectively.  df_tbins_refined is None if refinement is False.\n",
      "\n",
      "\n",
      "    Example Usage\n",
      "    --------------\n",
      "X,tbin_indices=extract_simple_firing_rates(spike_time_array, df_tbins)\n",
      "df_tbins_cv,df_tbins_refined_cv =  gener_tbins_fast(spike_time_array,booT,booF,refinement=True,num_cv_samples=5,printing=True)#**kwargs\n",
      "    \n"
     ]
    }
   ],
   "source": [
    "print (gener_tbins_fast.__doc__)"
   ]
  },
  {
   "cell_type": "code",
   "execution_count": null,
   "id": "9415a42e",
   "metadata": {},
   "outputs": [],
   "source": []
  },
  {
   "cell_type": "code",
   "execution_count": null,
   "id": "fd57d266",
   "metadata": {},
   "outputs": [],
   "source": []
  },
  {
   "cell_type": "code",
   "execution_count": null,
   "id": "0b823e2f",
   "metadata": {},
   "outputs": [],
   "source": []
  },
  {
   "cell_type": "markdown",
   "id": "673c4060",
   "metadata": {},
   "source": [
    "we will use fit_decoder to train the decoder"
   ]
  },
  {
   "cell_type": "code",
   "execution_count": 10,
   "id": "c2bae6d0",
   "metadata": {
    "ExecuteTime": {
     "end_time": "2022-09-10T03:28:36.869807Z",
     "start_time": "2022-09-10T03:28:36.830838Z"
    }
   },
   "outputs": [
    {
     "data": {
      "text/plain": [
       "<function lib.model.decoder.fit_decoder(xtrain, ytrain, xtest=None, ytest=None, param_dict=None, verbose=0, n_estimators=21, use_label_encoder=False, **kwargs)>"
      ]
     },
     "execution_count": 10,
     "metadata": {},
     "output_type": "execute_result"
    }
   ],
   "source": [
    "fit_decoder"
   ]
  },
  {
   "cell_type": "code",
   "execution_count": null,
   "id": "25543ab2",
   "metadata": {},
   "outputs": [],
   "source": []
  }
 ],
 "metadata": {
  "hide_input": false,
  "kernelspec": {
   "display_name": "Python 3 (ipykernel)",
   "language": "python",
   "name": "python3"
  },
  "language_info": {
   "codemirror_mode": {
    "name": "ipython",
    "version": 3
   },
   "file_extension": ".py",
   "mimetype": "text/x-python",
   "name": "python",
   "nbconvert_exporter": "python",
   "pygments_lexer": "ipython3",
   "version": "3.9.5"
  },
  "latex_envs": {
   "LaTeX_envs_menu_present": true,
   "autoclose": true,
   "autocomplete": false,
   "bibliofile": "biblio.bib",
   "cite_by": "apalike",
   "current_citInitial": 1,
   "eqLabelWithNumbers": false,
   "eqNumInitial": 1,
   "hotkeys": {
    "equation": "Ctrl-E",
    "itemize": "Ctrl-I"
   },
   "labels_anchors": false,
   "latex_user_defs": false,
   "report_style_numbering": false,
   "user_envs_cfg": false
  },
  "nbTranslate": {
   "displayLangs": [
    "*"
   ],
   "hotkey": "alt-t",
   "langInMainMenu": true,
   "sourceLang": "en",
   "targetLang": "fr",
   "useGoogleTranslate": true
  },
  "toc": {
   "base_numbering": 1,
   "nav_menu": {},
   "number_sections": true,
   "sideBar": true,
   "skip_h1_title": false,
   "title_cell": "Table of Contents",
   "title_sidebar": "Contents",
   "toc_cell": false,
   "toc_position": {},
   "toc_section_display": true,
   "toc_window_display": false
  }
 },
 "nbformat": 4,
 "nbformat_minor": 5
}
